{
 "cells": [
  {
   "cell_type": "markdown",
   "metadata": {},
   "source": [
    "**Locating the Invariant Mass of the Higgs Boson**  \n",
    "Jeffrey Patrick, Ziyad Zawawi  \n",
    "Phys 427  \n",
    "This project is split into two parts, the first comprises of using a neural network to predict the invariant mass of the Higgs Boson. The second involves two neural networks, one to predict a mask which will be used in place of the last cut before filling Lorentz Vectors, and the other to predict the invariant mass of the Higgs Boson. The latter neural network will be trained on the energies, pts, etas, and phis that have been cut by the mask predicted by the neural network."
   ]
  },
  {
   "cell_type": "code",
   "execution_count": 93,
   "metadata": {},
   "outputs": [],
   "source": [
    "import numpy as np\n",
    "import pandas as pd\n",
    "import uproot\n",
    "import matplotlib.pyplot as plt\n",
    "import seaborn as sns\n",
    "from sklearn.neural_network import MLPRegressor, MLPClassifier \n",
    "from sklearn.tree import DecisionTreeRegressor\n",
    "from sklearn import tree\n",
    "import awkward\n",
    "import uproot_methods\n",
    "from scipy.stats import norm"
   ]
  },
  {
   "cell_type": "code",
   "execution_count": 2,
   "metadata": {},
   "outputs": [],
   "source": [
    "fileA = uproot.open(\"data_A.GamGam.root\")[\"mini\"]\n",
    "fileB = uproot.open(\"data_B.GamGam.root\")[\"mini\"]\n",
    "fileC = uproot.open(\"data_C.GamGam.root\")[\"mini\"]\n",
    "fileD = uproot.open(\"data_D.GamGam.root\")[\"mini\"]"
   ]
  },
  {
   "cell_type": "markdown",
   "metadata": {},
   "source": [
    "There are four cuts we must apply to the GamGam data in order to select good photons for us to analyze. The first two cuts require the photons the pass the diphoton trigger as well as satisfy the tight identification reconstruction. They are both boolean Jagged Arrays and if any photon is false for either we will cut it out. The next cut requires the transverse momentum of the photon to be greater than 25000 and the absolute value of the psuedo-rapidity to be less than 2.37, as well as less than 1.37 or greater than 1.52. The last cut before we can start creating Lorentz Vectors with the leftover photons has to do with the ratios of the scalar sums of $P_T$ and $E_T$ in cones around the photon over the photon's transverse momemtum. If both ratios are less than 0.065 for both photons in an entry than we create Lorentz Vectors with the values of energy, transverse momemtum, pseudo-rapidity, and the azimuthal angle for that photon pair."
   ]
  },
  {
   "cell_type": "markdown",
   "metadata": {},
   "source": [
    "We create Jagged arrays from leaves in the GamGam data and then concatenated them into the single arrays trigger, energies, tightIDS, pt, eta, ptcone30, and etcone20."
   ]
  },
  {
   "cell_type": "code",
   "execution_count": 3,
   "metadata": {},
   "outputs": [],
   "source": [
    "PhiA, energiesA, triggerA, isTightIDA, ptA, etaA, ptcone30A, etcone20A = fileA.arrays([\"photon_phi\", \"photon_E\", \"trigP\", \"photon_isTightID\", \"photon_pt\", \"photon_eta\", \"photon_ptcone30\", \"photon_etcone20\"], outputtype=tuple)\n",
    "PhiB, energiesB, triggerB, isTightIDB, ptB, etaB, ptcone30B, etcone20B = fileB.arrays([\"photon_phi\", \"photon_E\", \"trigP\", \"photon_isTightID\", \"photon_pt\", \"photon_eta\", \"photon_ptcone30\", \"photon_etcone20\"], outputtype=tuple)\n",
    "PhiC, energiesC, triggerC, isTightIDC, ptC, etaC, ptcone30C, etcone20C = fileC.arrays([\"photon_phi\", \"photon_E\", \"trigP\", \"photon_isTightID\", \"photon_pt\", \"photon_eta\", \"photon_ptcone30\", \"photon_etcone20\"], outputtype=tuple)\n",
    "PhiD, energiesD, triggerD, isTightIDD, ptD, etaD, ptcone30D, etcone20D = fileD.arrays([\"photon_phi\", \"photon_E\", \"trigP\", \"photon_isTightID\", \"photon_pt\", \"photon_eta\", \"photon_ptcone30\", \"photon_etcone20\"], outputtype=tuple)"
   ]
  },
  {
   "cell_type": "code",
   "execution_count": 4,
   "metadata": {},
   "outputs": [],
   "source": [
    "#arrays of all data concatenated\n",
    "trigger = awkward.JaggedArray.concatenate([triggerA, triggerB, triggerC, triggerD])\n",
    "TightIDS = awkward.JaggedArray.concatenate([isTightIDA, isTightIDB, isTightIDC, isTightIDD])\n",
    "pt = awkward.JaggedArray.concatenate([ptA, ptB, ptC, ptD])\n",
    "eta = awkward.JaggedArray.concatenate([etaA, etaB, etaC, etaD])\n",
    "ptcone30 = awkward.JaggedArray.concatenate([ptcone30A, ptcone30B, ptcone30C, ptcone30D])\n",
    "etcone20 = awkward.JaggedArray.concatenate([etcone20A, etcone20B, etcone20C, etcone20D])\n",
    "energies = awkward.JaggedArray.concatenate([energiesA, energiesB, energiesC, energiesD])\n",
    "phi = awkward.JaggedArray.concatenate([PhiA, PhiB, PhiC, PhiD])"
   ]
  },
  {
   "cell_type": "markdown",
   "metadata": {},
   "source": [
    "The first cut requires the photons to pass the diphoton trigger. Because the trigger array is a boolean Jagged Array, the number of nonzero values in \"trigger\" would give us the number of Trues. This is due to the fact True=1 and False=0 in integer form. Subtracting the number of trues from the total number of entries in trigger would give us the value of how many photons did not pass the diphoton trigger."
   ]
  },
  {
   "cell_type": "code",
   "execution_count": 5,
   "metadata": {
    "scrolled": true
   },
   "outputs": [
    {
     "data": {
      "text/plain": [
       "0"
      ]
     },
     "execution_count": 5,
     "metadata": {},
     "output_type": "execute_result"
    }
   ],
   "source": [
    "np.size(trigger) - np.count_nonzero(trigger)"
   ]
  },
  {
   "cell_type": "markdown",
   "metadata": {},
   "source": [
    "As we can see from the code, there are no photons that did not pass the diphoton trigger and we can ignore this first cut since it is doing nothing to parse the data."
   ]
  },
  {
   "cell_type": "markdown",
   "metadata": {},
   "source": [
    "TightIDS is a boolean Jagged Array with summed values of 0, 1, or 2. If the entry is 2, then both photons satisfy the tight identification reconstruction. We want to create mask1 where values have to be 2, which can then be applied to all of the other arrays in order to filter out the corresponding indices."
   ]
  },
  {
   "cell_type": "code",
   "execution_count": 6,
   "metadata": {},
   "outputs": [],
   "source": [
    "#2nd cut, making mask1\n",
    "ids = TightIDS.sum()\n",
    "mask1 = ids == 2"
   ]
  },
  {
   "cell_type": "markdown",
   "metadata": {},
   "source": [
    "Mask2 is made from 3 individual masks. In order to make these masks we needed to apply mask1 to the Jagged Arrays we are using in the cut itself: pt and eta."
   ]
  },
  {
   "cell_type": "code",
   "execution_count": 7,
   "metadata": {},
   "outputs": [],
   "source": [
    "#3rd cut, making mask2: pt>25000 & |eta|<2.37 & (|eta|<1.37 or |eta|>1.52)\n",
    "maskpt = pt[mask1] > 25000\n",
    "\n",
    "eA = eta[mask1]\n",
    "masketa = abs(eA) < 2.37\n",
    "masketa2 = ((abs(eA) < 1.37) | (abs(eA) > 1.52))\n",
    "\n",
    "mask2 = (maskpt & masketa & masketa2 == True)"
   ]
  },
  {
   "cell_type": "code",
   "execution_count": 8,
   "metadata": {},
   "outputs": [],
   "source": [
    "#applying mask1 & mask2 to ptcone30, etcone20, and pt\n",
    "ptcones = ptcone30[mask1]\n",
    "ptcone = ptcones[mask2]\n",
    "\n",
    "etcones = etcone20[mask1]\n",
    "etcone = etcones[mask2]\n",
    "\n",
    "pts = pt[mask1]\n",
    "pt1 = pts[mask2]"
   ]
  },
  {
   "cell_type": "markdown",
   "metadata": {},
   "source": [
    "Creating mask3, where ratios of $ptcone30/pt$ and $etcone20/pt$ have to be less than 0.065. We created 2 masks where each individual ratio has to satisfy this cut, then mask3 required both of these to be true."
   ]
  },
  {
   "cell_type": "code",
   "execution_count": 9,
   "metadata": {},
   "outputs": [],
   "source": [
    "#create new cuts with edited arrays\n",
    "ratio1 = ptcone/pt1\n",
    "ratio2 = etcone/pt1\n",
    "\n",
    "maskratio1 = ratio1 < 0.065\n",
    "maskratio2 = ratio2 < 0.065\n",
    "\n",
    "mask3 = (maskratio1 & maskratio2 == True)"
   ]
  },
  {
   "cell_type": "code",
   "execution_count": 10,
   "metadata": {},
   "outputs": [],
   "source": [
    "#applying mask1-3 to energies, pts, phis, and etas\n",
    "E = energies[mask1]\n",
    "E1 = E[mask2]\n",
    "E2 = E1[mask3]\n",
    "\n",
    "finalpt = pt1[mask3]\n",
    "\n",
    "phis = phi[mask1]\n",
    "phi1 = phis[mask2]\n",
    "phi2 = phi1[mask3]\n",
    "\n",
    "e = eA[mask2]\n",
    "e1 = e[mask3]"
   ]
  },
  {
   "cell_type": "markdown",
   "metadata": {},
   "source": [
    "The final Jagged Arrays: energy, pt_array, eta_array, and phi_array, hold 2 photons per event therefore we split them into left and right arrays which we can use to construct Lorentz Vectors."
   ]
  },
  {
   "cell_type": "code",
   "execution_count": 11,
   "metadata": {},
   "outputs": [],
   "source": [
    "energy = E2.choose(2)\n",
    "leftE = energy.i0.flatten()\n",
    "rightE = energy.i1.flatten()\n",
    "\n",
    "pt_array = finalpt.choose(2)\n",
    "leftpt = pt_array.i0.flatten()\n",
    "rightpt = pt_array.i1.flatten()\n",
    "\n",
    "eta_array = e1.choose(2)\n",
    "lefteta = eta_array.i0.flatten()\n",
    "righteta = eta_array.i1.flatten()\n",
    "\n",
    "phi_array = phi2.choose(2)\n",
    "leftphi = phi_array.i0.flatten()\n",
    "rightphi = phi_array.i1.flatten()"
   ]
  },
  {
   "cell_type": "code",
   "execution_count": 12,
   "metadata": {},
   "outputs": [],
   "source": [
    "#constructing the left and right Lorentz Vectors\n",
    "left = uproot_methods.TLorentzVectorArray.from_ptetaphie(leftpt/1000., lefteta, leftphi, leftE/1000.)\n",
    "right = uproot_methods.TLorentzVectorArray.from_ptetaphie(rightpt/1000., righteta, rightphi, rightE/1000.)\n",
    "\n",
    "photon12 = left + right\n",
    "invmass = np.sqrt(((photon12.t)**2) - ((photon12.x)**2) - ((photon12.y)**2) - ((photon12.z)**2))"
   ]
  },
  {
   "cell_type": "code",
   "execution_count": 13,
   "metadata": {},
   "outputs": [
    {
     "data": {
      "image/png": "[encoded data removed]",
      "text/plain": [
       "<Figure size 432x288 with 1 Axes>"
      ]
     },
     "metadata": {
      "needs_background": "light"
     },
     "output_type": "display_data"
    }
   ],
   "source": [
    "ax = sns.distplot(invmass, kde=False, bins=50, hist_kws={\"range\":(105,160)})\n",
    "ax.set(ylim=(900, 3500))\n",
    "plt.xticks(np.arange(105, 165, step=5))\n",
    "plt.title('Diphoton Invariant Mass')\n",
    "plt.xlabel('GeV')\n",
    "plt.ylabel('Counts')\n",
    "plt.savefig('Diphoton Invariant Mass.png')\n",
    "plt.show()"
   ]
  },
  {
   "cell_type": "markdown",
   "metadata": {},
   "source": [
    "Now that we have a diphoton invariant mass array, we are able to train and test a Neural Network to predict values of the diphoton invariant mass based on the final left and right arrays of energy, pt, eta, and phi."
   ]
  },
  {
   "cell_type": "code",
   "execution_count": 14,
   "metadata": {},
   "outputs": [],
   "source": [
    "#contrusting argument to feed Neural Network\n",
    "lorentzarray = np.column_stack((leftE/1000., rightE/1000., leftpt/1000., rightpt/1000., lefteta, righteta, leftphi, rightphi))"
   ]
  },
  {
   "cell_type": "code",
   "execution_count": 15,
   "metadata": {},
   "outputs": [],
   "source": [
    "#splitting the argument and invariant mass into odds and evens\n",
    "odds = lorentzarray[::2]\n",
    "evens = lorentzarray[1::2]\n",
    "\n",
    "odds_mass = invmass.flatten()[::2]\n",
    "evens_mass = invmass.flatten()[1::2]"
   ]
  },
  {
   "cell_type": "code",
   "execution_count": 16,
   "metadata": {},
   "outputs": [],
   "source": [
    "#creating a Neural Network to predict both the odd and even entries for the diphoton invariant mass\n",
    "clfe1 = MLPRegressor(hidden_layer_sizes = (6, 3))\n",
    "clfe1.fit(odds, odds_mass)\n",
    "masse1_prediction = clfe1.predict(evens)\n",
    "\n",
    "clfo1 = MLPRegressor(hidden_layer_sizes = (6, 3))\n",
    "clfo1.fit(evens, evens_mass)\n",
    "masso1_prediction1 = clfo1.predict(odds)"
   ]
  },
  {
   "cell_type": "markdown",
   "metadata": {},
   "source": [
    "We create a new diphoton invariant mass array by putting the odd and even neural network predictions back together. We then plotted a histogram of the difference between the invariant mass predicted by the Neural Network and the invariant mass after the cuts."
   ]
  },
  {
   "cell_type": "code",
   "execution_count": 20,
   "metadata": {},
   "outputs": [],
   "source": [
    "invmass_new = np.zeros((363877))\n",
    "invmass_new[::2] = masso1_prediction1\n",
    "invmass_new[1::2] = masse1_prediction"
   ]
  },
  {
   "cell_type": "code",
   "execution_count": 44,
   "metadata": {},
   "outputs": [
    {
     "data": {
      "image/png": "[encoded data removed]",
      "text/plain": [
       "<Figure size 432x288 with 1 Axes>"
      ]
     },
     "metadata": {
      "needs_background": "light"
     },
     "output_type": "display_data"
    }
   ],
   "source": [
    "#histogram of NN predicted invariant mass\n",
    "ax = sns.distplot(invmass_new, kde=False, bins=50, hist_kws={\"range\":(105,160)})\n",
    "ax.set(ylim=(900, 3500))\n",
    "plt.xticks(np.arange(105, 165, step=5))\n",
    "plt.title('NN Diphoton Invariant Mass')\n",
    "plt.xlabel('GeV')\n",
    "plt.ylabel('Counts')\n",
    "plt.savefig('NN Diphoton Invariant Mass.png')\n",
    "plt.show()"
   ]
  },
  {
   "cell_type": "code",
   "execution_count": 90,
   "metadata": {},
   "outputs": [
    {
     "data": {
      "image/png": "[encoded data removed]",
      "text/plain": [
       "<Figure size 432x288 with 1 Axes>"
      ]
     },
     "metadata": {
      "needs_background": "light"
     },
     "output_type": "display_data"
    }
   ],
   "source": [
    "delta_invmass = invmass_new - invmass\n",
    "plt.hist(delta_invmass, bins=50, range=(-150, 150))\n",
    "plt.title(\"Difference between NN predicted invariant mass and origin invariant mass\")\n",
    "plt.savefig('Difference between NN predicted invariant mass and origin invariant mass.png')\n",
    "plt.xlabel('Difference')\n",
    "plt.ylabel('Counts')\n",
    "plt.show()"
   ]
  },
  {
   "cell_type": "code",
   "execution_count": 23,
   "metadata": {},
   "outputs": [
    {
     "name": "stdout",
     "output_type": "stream",
     "text": [
      "0.8153778031026089\n",
      "33.0179413330982\n"
     ]
    }
   ],
   "source": [
    "mean,std=norm.fit(delta_invmass)\n",
    "print(mean)\n",
    "print(std)"
   ]
  },
  {
   "cell_type": "markdown",
   "metadata": {},
   "source": [
    "**Capstone PT2, creating mask 3 with neural network instead of explicit cuts**"
   ]
  },
  {
   "cell_type": "markdown",
   "metadata": {},
   "source": [
    "For the second part of our project we are now training a neural network with the ratios of ptcone30/pt and etcone20/pt to predict a new mask3. The ratios have had mask1 and mask2 already applied. We then used the new mask3 to find an invariant mass which is fed into another neural network to give us a prediction of diphoton invariant mass."
   ]
  },
  {
   "cell_type": "code",
   "execution_count": 24,
   "metadata": {},
   "outputs": [],
   "source": [
    "#creating arguments to feed into NN and splitting into odds and evens\n",
    "x = np.column_stack((ratio1.flatten(), ratio2.flatten()))\n",
    "y = mask3.flatten()\n",
    "\n",
    "oddx = x[::2]\n",
    "evenx = x[1::2]\n",
    "\n",
    "oddy = y[::2]\n",
    "eveny = y[1::2]"
   ]
  },
  {
   "cell_type": "code",
   "execution_count": 25,
   "metadata": {},
   "outputs": [],
   "source": [
    "#2 NN for the odd and even values of a new mask3\n",
    "evenMask = MLPClassifier(hidden_layer_sizes = (2,1))\n",
    "evenMask.fit(oddx, oddy)\n",
    "mask3_evens = evenMask.predict(evenx)\n",
    "\n",
    "oddMask = MLPClassifier(hidden_layer_sizes = (2,1))\n",
    "oddMask.fit(evenx, eveny)\n",
    "mask3_odds = oddMask.predict(oddx)"
   ]
  },
  {
   "cell_type": "markdown",
   "metadata": {},
   "source": [
    "In order to apply the NN predicted mask3 we must combine the odd and even values and then convert it into a jagged array."
   ]
  },
  {
   "cell_type": "code",
   "execution_count": 27,
   "metadata": {},
   "outputs": [],
   "source": [
    "mask3_new = np.zeros((1966618), dtype=bool)\n",
    "mask3_new[::2] = mask3_odds\n",
    "mask3_new[1::2] = mask3_evens\n",
    "\n",
    "mask3_newjag = awkward.JaggedArray.fromoffsets(pt1.offsets, mask3_new.flatten())"
   ]
  },
  {
   "cell_type": "markdown",
   "metadata": {},
   "source": [
    "Comparison between the neural network mask3 and the original mask3. Deltamask is the integer difference between the two boolean masks. If the difference is 0, the NN mask3 is cutting the same photons as the original mask3. A difference of -1 would mean the NN mask3 isn't passing a photon that original mask3 did. And a difference of 1 would mean it passed a photon that the original didn't. The same logic applies to a difference of 2 or -2."
   ]
  },
  {
   "cell_type": "code",
   "execution_count": 91,
   "metadata": {},
   "outputs": [
    {
     "data": {
      "image/png": "[encoded data removed]",
      "text/plain": [
       "<Figure size 432x288 with 1 Axes>"
      ]
     },
     "metadata": {
      "needs_background": "light"
     },
     "output_type": "display_data"
    }
   ],
   "source": [
    "maskinta = mask3_newjag.sum()\n",
    "maskintb = mask3.sum()\n",
    "\n",
    "deltamask = (maskinta - maskintb)\n",
    "plt.hist(deltamask, bins=[-2,-1, 0, 1, 2, 3])\n",
    "counts, bins = np.histogram(deltamask)\n",
    "plt.yscale('log')\n",
    "plt.savefig('Delta Mask.png')\n",
    "plt.title('Comparison of NN Mask3 and Mask3')\n",
    "plt.xlabel('Mask3 Difference')\n",
    "plt.ylabel('Counts(logscale)')\n",
    "plt.show()"
   ]
  },
  {
   "cell_type": "code",
   "execution_count": 92,
   "metadata": {},
   "outputs": [
    {
     "name": "stdout",
     "output_type": "stream",
     "text": [
      "981585\n",
      "[   235      0  29800      0      0 909799      0  41216      0    535]\n",
      "4.198923170178843\n",
      "0.05450368536601517\n",
      "3.0359062129107515\n",
      "0.02394087114208143\n",
      "92.68672606040231\n"
     ]
    }
   ],
   "source": [
    "#looking at the number of entries in each bin and dividing by the total number of events in deltamask\n",
    "print(len(deltamask))\n",
    "print(counts)\n",
    "\n",
    "pass1 = (41216/981585)*100\n",
    "print(pass1)\n",
    "pass2 = (535/981585)*100\n",
    "print(pass2)\n",
    "nopass1 = (29800/981585)*100\n",
    "print(nopass1)\n",
    "nopass2 = (235/981585)*100\n",
    "print(nopass2)\n",
    "same = (909799/981585)*100\n",
    "print(same)"
   ]
  },
  {
   "cell_type": "code",
   "execution_count": 30,
   "metadata": {},
   "outputs": [],
   "source": [
    "#applying new mask3 to the energy, pt, eta, and phi jagged arrays\n",
    "finalpt1 = pt1[mask3_newjag]\n",
    "finalE1 = E1[mask3_newjag]\n",
    "finaleta1 = e[mask3_newjag]\n",
    "finalphi1 = phi1[mask3_newjag]"
   ]
  },
  {
   "cell_type": "code",
   "execution_count": 31,
   "metadata": {},
   "outputs": [],
   "source": [
    "energy1 = finalE1.choose(2)\n",
    "leftE1 = energy1.i0.flatten()\n",
    "rightE1 = energy1.i1.flatten()\n",
    "\n",
    "pt_array1 = finalpt1.choose(2)\n",
    "leftpt1 = pt_array1.i0.flatten()\n",
    "rightpt1 = pt_array1.i1.flatten()\n",
    "\n",
    "eta_array1 = finaleta1.choose(2)\n",
    "lefteta1 = eta_array1.i0.flatten()\n",
    "righteta1 = eta_array1.i1.flatten()\n",
    "\n",
    "phi_array1 = finalphi1.choose(2)\n",
    "leftphi1 = phi_array1.i0.flatten()\n",
    "rightphi1 = phi_array1.i1.flatten()"
   ]
  },
  {
   "cell_type": "code",
   "execution_count": 32,
   "metadata": {},
   "outputs": [],
   "source": [
    "left1 = uproot_methods.TLorentzVectorArray.from_ptetaphie(leftpt1/1000., lefteta1, leftphi1, leftE1/1000.)\n",
    "right1 = uproot_methods.TLorentzVectorArray.from_ptetaphie(rightpt1/1000., righteta1, rightphi1, rightE1/1000.)\n",
    "\n",
    "photon12_1 = left1 + right1\n",
    "invmass_NNmask = np.sqrt(((photon12_1.t)**2) - ((photon12_1.x)**2) - ((photon12_1.y)**2) - ((photon12_1.z)**2))"
   ]
  },
  {
   "cell_type": "code",
   "execution_count": 57,
   "metadata": {},
   "outputs": [
    {
     "data": {
      "image/png": "[encoded data removed]",
      "text/plain": [
       "<Figure size 432x288 with 1 Axes>"
      ]
     },
     "metadata": {
      "needs_background": "light"
     },
     "output_type": "display_data"
    }
   ],
   "source": [
    "#histogram of invariant mass after applying NN predicted mask3\n",
    "ax = sns.distplot(invmass_NNmask, kde=False, bins=50, hist_kws={\"range\":(105,160)})\n",
    "ax.set(ylim=(900, 3500))\n",
    "plt.xticks(np.arange(105, 165, step=5))\n",
    "plt.title('Invariant Mass after NN predicted Mask3')\n",
    "plt.xlabel('GeV')\n",
    "plt.ylabel('Counts')\n",
    "plt.savefig('Invariant Mass after NN predicted Mask3.png')\n",
    "plt.show()"
   ]
  },
  {
   "cell_type": "code",
   "execution_count": 95,
   "metadata": {},
   "outputs": [],
   "source": [
    "lorentzarray1 = np.column_stack((leftE1/1000., rightE1/1000., leftpt1/1000., rightpt1/1000., lefteta1, righteta1, leftphi1, rightphi1))\n",
    "odds1 = lorentzarray1[::2]\n",
    "evens1 = lorentzarray1[1::2]\n",
    "\n",
    "odds_mass1 = invmass_NNmask.flatten()[::2]\n",
    "evens_mass1 = invmass_NNmask.flatten()[1::2]"
   ]
  },
  {
   "cell_type": "code",
   "execution_count": 36,
   "metadata": {},
   "outputs": [],
   "source": [
    "#2 NN to predict the even and odd values of the diphoton invariant mass\n",
    "evenMass = MLPRegressor(hidden_layer_sizes = (6, 3))\n",
    "evenMass.fit(odds1, odds_mass1)\n",
    "Mass_evens = evenMass.predict(evens1)\n",
    "\n",
    "oddMass = MLPRegressor(hidden_layer_sizes = (6, 3))\n",
    "oddMass.fit(evens1, evens_mass1)\n",
    "Mass_odds = oddMass.predict(odds1)"
   ]
  },
  {
   "cell_type": "code",
   "execution_count": 39,
   "metadata": {},
   "outputs": [],
   "source": [
    "invmass_new1 = np.zeros((373259))\n",
    "invmass_new1[::2] = Mass_odds\n",
    "invmass_new1[1::2] = Mass_evens"
   ]
  },
  {
   "cell_type": "code",
   "execution_count": 58,
   "metadata": {},
   "outputs": [
    {
     "data": {
      "image/png": "[encoded data removed]",
      "text/plain": [
       "<Figure size 432x288 with 1 Axes>"
      ]
     },
     "metadata": {
      "needs_background": "light"
     },
     "output_type": "display_data"
    }
   ],
   "source": [
    "#histogram of NN predicted invariant mass \n",
    "ax = sns.distplot(invmass_new1, kde=False, bins=50, hist_kws={\"range\":(105,160)})\n",
    "ax.set(ylim=(900, 3500))\n",
    "plt.xticks(np.arange(105, 165, step=5))\n",
    "plt.title('NN predicted invaraint mass after NN Mask3')\n",
    "plt.xlabel('GeV')\n",
    "plt.ylabel('Counts')\n",
    "plt.savefig('NN predicted invaraint mass after NN Mask3.png')\n",
    "plt.show()"
   ]
  }
 ],
 "metadata": {
  "kernelspec": {
   "display_name": "Python 3",
   "language": "python",
   "name": "python3"
  },
  "language_info": {
   "codemirror_mode": {
    "name": "ipython",
    "version": 3
   },
   "file_extension": ".py",
   "mimetype": "text/x-python",
   "name": "python",
   "nbconvert_exporter": "python",
   "pygments_lexer": "ipython3",
   "version": "3.7.4"
  }
 },
 "nbformat": 4,
 "nbformat_minor": 2
}
